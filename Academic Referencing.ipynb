{
 "cells": [
  {
   "cell_type": "markdown",
   "id": "b40944fc",
   "metadata": {},
   "source": [
    "# Academic Referencing with Python in Jupyter Notebooks\n",
    "Initial implementation aiming to do in text citations and end of document references to Harvard AGPS standard and in the future add more referencing styles.  \n",
    "## Features\n",
    "* functions for 1 reference such as print and set and get functions\n",
    "* functions for printing a collection of references for use in the References section of an academic jupyter notebook\n",
    "  \n",
    "## References:\n",
    "* https://www.aib.edu.au/wp-content/uploads/2022/04/AIB_Style_GuideV22Dec2021.pdf"
   ]
  },
  {
   "cell_type": "code",
   "execution_count": 1,
   "id": "902bbffa",
   "metadata": {},
   "outputs": [],
   "source": [
    "import json"
   ]
  },
  {
   "cell_type": "code",
   "execution_count": 2,
   "id": "6f97a796",
   "metadata": {
    "scrolled": true
   },
   "outputs": [
    {
     "name": "stdout",
     "output_type": "stream",
     "text": [
      "Sample json of a reference:\n",
      "{\"first_name\": \"David\", \"last_name\": \"Ash\", \"url\": \"https://davidash.net\", \"city\": \"\", \"year\": \"1980\"}\n",
      "\n",
      "Sample in text citation:\n",
      " (Ash 1980)\n",
      "\n",
      "Sample in text citation with quote:\n",
      "\"30 percent were dissatisfied and 8 percent were outright disengaged\"  (Ash 1980)\n",
      "\n",
      "Sample reference in References section of a document:\n",
      "Ash, David 1980 https://davidash.net\n"
     ]
    }
   ],
   "source": [
    "class AcademicReference:\n",
    "    def __init__(self):\n",
    "        #self.reference = json.loads('{ \"first_name\":\"David\", \"last_name\":\"Ash\", \"url\":\"http://davidash.net\", \"city\":\"Brisbane\"}')\n",
    "        #self.reference[\"first_name\"] = \"David\"\n",
    "        #self.name = \"Academic Reference\"\n",
    "        self.reference = json.loads('{ \\\n",
    "                           \"first_name\":\"\", \\\n",
    "                           \"last_name\":\"\", \\\n",
    "                           \"url\":\"\", \\\n",
    "                           \"city\":\"\", \\\n",
    "                           \"year\":\"\"\\\n",
    "                           }'\n",
    "                          )\n",
    "    \n",
    "    #when calling print on this class\n",
    "    def __str__(self):\n",
    "        #return \"David A (1980)\"\n",
    "        return json.dumps(self.reference)\n",
    "    \n",
    "    def get_ref(self):\n",
    "        return self.reference\n",
    "    \n",
    "    def set_first_name(self,name):\n",
    "        self.reference['first_name'] = name\n",
    "\n",
    "    def set_last_name(self,name):\n",
    "        self.reference['last_name'] = name\n",
    "        \n",
    "    #in text citation\n",
    "    def return_citation(self):\n",
    "        return ' (' + self.reference['last_name'] + ' ' + self.reference['year'] + ')'\n",
    "        \n",
    "    #in text citation\n",
    "    def print_citation(self):\n",
    "        print(' (',self.reference['last_name'],\" \", self.reference['year'],')', sep='')\n",
    "    \n",
    "    def print_reference(self):\n",
    "        print(self.reference['last_name'], end=', ')\n",
    "        print(self.reference['first_name'], sep='', end=' ')\n",
    "        print(self.reference['year'], sep='', end=' ')\n",
    "        print(self.reference['url'], sep='')\n",
    "\n",
    "myref = AcademicReference()\n",
    "myref.reference['first_name'] = 'David'\n",
    "myref.reference['last_name'] = 'Ash'\n",
    "myref.reference['url'] = 'https://davidash.net'\n",
    "myref.reference['year'] = '1980'\n",
    "\n",
    "print(\"Sample json of a reference:\")\n",
    "print(myref)\n",
    "print()\n",
    "print(\"Sample in text citation:\")\n",
    "myref.print_citation()\n",
    "print()\n",
    "print(\"Sample in text citation with quote:\")\n",
    "print(\"\\\"30 percent were dissatisfied and 8 percent were outright disengaged\\\"\", myref.return_citation())\n",
    "print()\n",
    "print(\"Sample reference in References section of a document:\")\n",
    "myref.print_reference()\n"
   ]
  },
  {
   "cell_type": "code",
   "execution_count": 3,
   "id": "84e668fb",
   "metadata": {},
   "outputs": [
    {
     "name": "stdout",
     "output_type": "stream",
     "text": [
      "References:\n",
      "Ash, David 1980 https://davidash.net\n",
      "Jane, Bob 1901 https://bobjane.net\n"
     ]
    }
   ],
   "source": [
    "#array of AcademicRef\n",
    "class AcademicReferences:\n",
    "    def __init__(self):\n",
    "        self.references = []\n",
    "    \n",
    "    #when calling print on this class\n",
    "    def __str__(self):\n",
    "        return \"hi\"\n",
    "    \n",
    "    def add_ref(self, ref):\n",
    "        self.references.append(ref)\n",
    "    \n",
    "    def get_refs(self):\n",
    "        return self.references\n",
    "    \n",
    "    def print_references(self):\n",
    "        for i in self.references:\n",
    "            i.print_reference()\n",
    "            \n",
    "refs = AcademicReferences()\n",
    "\n",
    "myref1 = AcademicReference()\n",
    "myref1.set_first_name('David')\n",
    "myref1.reference['last_name'] = 'Ash'\n",
    "myref1.reference['url'] = 'https://davidash.net'\n",
    "myref1.reference['year'] = '1980'\n",
    "\n",
    "myref2 = AcademicReference()\n",
    "myref2.reference['first_name'] = 'Bob'\n",
    "myref2.reference['last_name'] = 'Jane'\n",
    "myref2.reference['url'] = 'https://bobjane.net'\n",
    "myref2.reference['year'] = '1901'\n",
    "\n",
    "refs.add_ref(myref1)\n",
    "refs.add_ref(myref2)\n",
    "print(\"References:\")\n",
    "refs.print_references()"
   ]
  },
  {
   "cell_type": "markdown",
   "id": "78a748f1",
   "metadata": {},
   "source": [
    "# References:"
   ]
  },
  {
   "cell_type": "code",
   "execution_count": 4,
   "id": "3d0b1b5f",
   "metadata": {},
   "outputs": [
    {
     "name": "stdout",
     "output_type": "stream",
     "text": [
      "Ash, David 1980 https://davidash.net\n",
      "Jane, Bob 1901 https://bobjane.net\n"
     ]
    }
   ],
   "source": [
    "refs.print_references()"
   ]
  }
 ],
 "metadata": {
  "kernelspec": {
   "display_name": "Python 3 (ipykernel)",
   "language": "python",
   "name": "python3"
  },
  "language_info": {
   "codemirror_mode": {
    "name": "ipython",
    "version": 3
   },
   "file_extension": ".py",
   "mimetype": "text/x-python",
   "name": "python",
   "nbconvert_exporter": "python",
   "pygments_lexer": "ipython3",
   "version": "3.9.15"
  }
 },
 "nbformat": 4,
 "nbformat_minor": 5
}
