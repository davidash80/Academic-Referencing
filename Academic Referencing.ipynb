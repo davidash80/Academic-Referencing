{
 "cells": [
  {
   "cell_type": "markdown",
   "id": "b40944fc",
   "metadata": {},
   "source": [
    "# Academic Referencing with Python in Jupyter Notebooks\n",
    "Initial implementation aiming to do in text citations and end of document references to Harvard AGPS standard and in the future add more referencing styles.  \n",
    "## Features\n",
    "* functions for 1 reference such as print and set and get functions\n",
    "* functions for printing a collection of references for use in the References section of an academic jupyter notebook\n",
    "* basic functionality for media types - Book, Journal, Web Site \n",
    "\n",
    "## Todo\n",
    "* Allow for multiple Authors for a reference in an array\n",
    "* get/set functions?\n",
    "* different standards and optional paramater for selecting standard\n",
    "* additional media types\n",
    "* support for partially incomplete json objects eg. given_name not set, currently this generates an error\n",
    "* improve ```__str__``` output\n",
    "  \n",
    "## References:\n",
    "* https://www.aib.edu.au/wp-content/uploads/2022/04/AIB_Style_GuideV22Dec2021.pdf"
   ]
  },
  {
   "cell_type": "code",
   "execution_count": 1,
   "id": "902bbffa",
   "metadata": {},
   "outputs": [],
   "source": [
    "import json"
   ]
  },
  {
   "cell_type": "code",
   "execution_count": 2,
   "id": "6f97a796",
   "metadata": {
    "scrolled": true
   },
   "outputs": [
    {
     "name": "stdout",
     "output_type": "stream",
     "text": [
      "Sample json string of a reference:\n",
      "{\"reference_type\": \"\", \"given_name\": \"David\", \"middle_name\": \"\", \"family_name\": \"Ash\", \"title\": \"\", \"Publisher\": \"\", \"city\": \"\", \"volume\": \"\", \"issue\": \"\", \"website_name\": \"\", \"website_page_name\": \"\", \"url\": \"https://davidash.net\", \"year\": \"1980\"}\n",
      "\n",
      "Sample in text citation:\n",
      " (Ash 1980)\n",
      "\n",
      "Sample in text citation with quote:\n",
      "\"30 percent were dissatisfied and 8 percent were outright disengaged\"  (Ash 1980)\n",
      "\n",
      "Sample reference in References section of a document:\n",
      "Ash, D 1980 https://davidash.net\n"
     ]
    }
   ],
   "source": [
    "class AcademicReference:\n",
    "    \"\"\"Represents 1 single reference stored in a json variable called reference. Note reference variable \n",
    "    is public to the class object.\n",
    "    Example reference types includes Book, Journal, Web Site etc. This will be the intial features.\n",
    "    \"\"\"\n",
    "    def __init__(self):\n",
    "        #loads a string into a json object\n",
    "        self.reference = json.loads('{ \\\n",
    "                           \"reference_type\":\"\", \\\n",
    "                           \"given_name\":\"\", \\\n",
    "                           \"middle_name\":\"\", \\\n",
    "                           \"family_name\":\"\", \\\n",
    "                           \"title\":\"\", \\\n",
    "                           \"Publisher\":\"\", \\\n",
    "                           \"city\":\"\", \\\n",
    "                           \"volume\":\"\", \\\n",
    "                           \"issue\":\"\", \\\n",
    "                           \"website_name\":\"\", \\\n",
    "                           \"website_page_name\":\"\", \\\n",
    "                           \"url\":\"\", \\\n",
    "                           \"year\":\"\"\\\n",
    "                           }'\n",
    "                        )\n",
    "    \n",
    "    def __str__(self):\n",
    "        \"\"\"String representation of an AcademicReference\n",
    "        returns: json as a string of the reference variable\n",
    "        \"\"\"\n",
    "        #return \"David A (1980)\"\n",
    "        return json.dumps(self.reference)\n",
    "    \n",
    "    def get_ref(self):\n",
    "        \"\"\"Get for reference variable\n",
    "        \n",
    "        returns: reference variable of type json\n",
    "        \"\"\"\n",
    "        return self.reference\n",
    "    \n",
    "    #note this likely to go away with multiple author feature\n",
    "    def set_given_name(self,name):\n",
    "        \"\"\"Sets first name on the reference variable\n",
    "\n",
    "        param: name - given name\n",
    "        \"\"\"\n",
    "        self.reference['given_name'] = name\n",
    "\n",
    "    #note this likely to go away with multiple author feature\n",
    "    def set_family_name(self,name):\n",
    "        \"\"\"Sets family name on the reference variable\n",
    "\n",
    "        param: name - family name\n",
    "        \"\"\"\n",
    "        self.reference['family_name'] = name\n",
    "        \n",
    "    #in text citation\n",
    "    def get_citation(self):\n",
    "        \"\"\"Returns string for in text citation of the reference.\n",
    "\n",
    "        returns: string of reference\n",
    "        \"\"\"\n",
    "        return ' (' + self.reference['family_name'] + ' ' + self.reference['year'] + ')'\n",
    "        \n",
    "    #in text citation\n",
    "    def print_citation(self):\n",
    "        \"\"\"Prints the citation, note get_citation may be preferable if part of a more complex output.\n",
    "        \"\"\"\n",
    "        print(' (',self.reference['family_name'],\" \", self.reference['year'],')', sep='')\n",
    "    \n",
    "    def print_reference(self):\n",
    "        \"\"\"Prints the reference to a referencing section format standard (not in text citation).\n",
    "        \"\"\"\n",
    "        print(self.reference['family_name'], end=', ')\n",
    "        print(self.reference['given_name'][0], sep='', end=' ')\n",
    "        print(self.reference['year'], sep='', end=' ')\n",
    "        print(self.reference['url'], sep='')\n",
    "\n",
    "myref = AcademicReference()\n",
    "myref.reference['given_name'] = 'David'\n",
    "myref.reference['family_name'] = 'Ash'\n",
    "myref.reference['url'] = 'https://davidash.net'\n",
    "myref.reference['year'] = '1980'\n",
    "\n",
    "print(\"Sample json string of a reference:\")\n",
    "print(myref)\n",
    "print()\n",
    "print(\"Sample in text citation:\")\n",
    "myref.print_citation()\n",
    "print()\n",
    "print(\"Sample in text citation with quote:\")\n",
    "print(\"\\\"30 percent were dissatisfied and 8 percent were outright disengaged\\\"\", myref.get_citation())\n",
    "print()\n",
    "print(\"Sample reference in References section of a document:\")\n",
    "myref.print_reference()\n"
   ]
  },
  {
   "cell_type": "code",
   "execution_count": 3,
   "id": "84e668fb",
   "metadata": {},
   "outputs": [
    {
     "name": "stdout",
     "output_type": "stream",
     "text": [
      "References:\n",
      "Ash, D 1980 https://davidash.net\n",
      "Jane, B 1901 https://bobjane.net\n"
     ]
    }
   ],
   "source": [
    "#array of AcademicRef\n",
    "class AcademicReferences:\n",
    "    \"\"\"An array references of variable type AcademicReference. Note references being a public variable.\n",
    "    \"\"\"\n",
    "    \n",
    "    def __init__(self):\n",
    "        self.references = []\n",
    "    \n",
    "    #this should return a string rather than a print function as output may be not as expected when calling\n",
    "    def __str__(self):\n",
    "        print_references()\n",
    "    \n",
    "    def add_ref(self, ref):\n",
    "        \"\"\"Appends to the array of AcademicReferences with each element consisting of 1 AcademicReference.\n",
    "\n",
    "        param: ref - 1 AcademicReference\n",
    "        \"\"\"\n",
    "        self.references.append(ref)\n",
    "    \n",
    "    def get_refs(self):\n",
    "        \"\"\"Returns references variable.\n",
    "\n",
    "        returns: references variable which is an array of type AcademicReference\n",
    "        \"\"\"\n",
    "        return self.references\n",
    "    \n",
    "    def print_references(self):\n",
    "        \"\"\"Prints all references in the references variable for use in references section of acadmic report.\n",
    "        \"\"\"\n",
    "        for i in self.references:\n",
    "            i.print_reference()\n",
    "            \n",
    "refs = AcademicReferences()\n",
    "\n",
    "myref1 = AcademicReference()\n",
    "myref1.set_given_name('David')\n",
    "myref1.reference['family_name'] = 'Ash'\n",
    "myref1.reference['url'] = 'https://davidash.net'\n",
    "myref1.reference['year'] = '1980'\n",
    "\n",
    "myref2 = AcademicReference()\n",
    "myref2.reference['given_name'] = 'Bob'\n",
    "myref2.reference['family_name'] = 'Jane'\n",
    "myref2.reference['url'] = 'https://bobjane.net'\n",
    "myref2.reference['year'] = '1901'\n",
    "\n",
    "refs.add_ref(myref1)\n",
    "refs.add_ref(myref2)\n",
    "print(\"References:\")\n",
    "refs.print_references()"
   ]
  },
  {
   "cell_type": "markdown",
   "id": "78a748f1",
   "metadata": {},
   "source": [
    "# References:"
   ]
  },
  {
   "cell_type": "code",
   "execution_count": 4,
   "id": "3d0b1b5f",
   "metadata": {
    "scrolled": false
   },
   "outputs": [
    {
     "name": "stdout",
     "output_type": "stream",
     "text": [
      "Ash, D 1980 https://davidash.net\n",
      "Jane, B 1901 https://bobjane.net\n"
     ]
    }
   ],
   "source": [
    "refs.print_references()"
   ]
  },
  {
   "cell_type": "code",
   "execution_count": 5,
   "id": "3e6b6ccd",
   "metadata": {
    "scrolled": true
   },
   "outputs": [],
   "source": [
    "#help(AcademicReferences)"
   ]
  }
 ],
 "metadata": {
  "kernelspec": {
   "display_name": "Python 3 (ipykernel)",
   "language": "python",
   "name": "python3"
  },
  "language_info": {
   "codemirror_mode": {
    "name": "ipython",
    "version": 3
   },
   "file_extension": ".py",
   "mimetype": "text/x-python",
   "name": "python",
   "nbconvert_exporter": "python",
   "pygments_lexer": "ipython3",
   "version": "3.9.15"
  }
 },
 "nbformat": 4,
 "nbformat_minor": 5
}
